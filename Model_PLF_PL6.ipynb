{
  "nbformat": 4,
  "nbformat_minor": 0,
  "metadata": {
    "colab": {
      "name": "Untitled0.ipynb",
      "provenance": [],
      "collapsed_sections": [],
      "include_colab_link": true
    },
    "kernelspec": {
      "name": "python3",
      "display_name": "Python 3"
    }
  },
  "cells": [
    {
      "cell_type": "markdown",
      "metadata": {
        "id": "view-in-github",
        "colab_type": "text"
      },
      "source": [
        "<a href=\"https://colab.research.google.com/github/santimai/ProjectBigdata/blob/master/Model_PLF_PL6.ipynb\" target=\"_parent\"><img src=\"https://colab.research.google.com/assets/colab-badge.svg\" alt=\"Open In Colab\"/></a>"
      ]
    },
    {
      "cell_type": "code",
      "metadata": {
        "id": "Ms5ykzOecLva",
        "colab_type": "code",
        "colab": {}
      },
      "source": [
        "import pandas as pd\n",
        "import numpy as np\n",
        "import matplotlib.pyplot as plt\n",
        "from sklearn.model_selection import train_test_split"
      ],
      "execution_count": 0,
      "outputs": []
    },
    {
      "cell_type": "code",
      "metadata": {
        "id": "cVr69cPOc8nm",
        "colab_type": "code",
        "outputId": "3a4dfb92-e1ea-45c0-ed1a-799e9bb74c78",
        "colab": {
          "base_uri": "https://localhost:8080/",
          "height": 302
        }
      },
      "source": [
        "\n",
        "raw_data = pd.read_csv('https://raw.githubusercontent.com/santimai/ProjectBigdata/master/PL6_Data_cleansing_raw2.csv', delimiter=',')\n",
        "raw_data.head()"
      ],
      "execution_count": 0,
      "outputs": [
        {
          "output_type": "execute_result",
          "data": {
            "text/html": [
              "<div>\n",
              "<style scoped>\n",
              "    .dataframe tbody tr th:only-of-type {\n",
              "        vertical-align: middle;\n",
              "    }\n",
              "\n",
              "    .dataframe tbody tr th {\n",
              "        vertical-align: top;\n",
              "    }\n",
              "\n",
              "    .dataframe thead th {\n",
              "        text-align: right;\n",
              "    }\n",
              "</style>\n",
              "<table border=\"1\" class=\"dataframe\">\n",
              "  <thead>\n",
              "    <tr style=\"text-align: right;\">\n",
              "      <th></th>\n",
              "      <th>Unnamed: 0</th>\n",
              "      <th>DateTime</th>\n",
              "      <th>Formula</th>\n",
              "      <th>Performance</th>\n",
              "      <th>jobID</th>\n",
              "      <th>steam</th>\n",
              "      <th>Temp_Con</th>\n",
              "      <th>current</th>\n",
              "      <th>Temp_Front_Pellet</th>\n",
              "      <th>Status</th>\n",
              "      <th>Formula2</th>\n",
              "    </tr>\n",
              "  </thead>\n",
              "  <tbody>\n",
              "    <tr>\n",
              "      <th>0</th>\n",
              "      <td>1</td>\n",
              "      <td>2019-05-31</td>\n",
              "      <td>562     PIG BRD STR</td>\n",
              "      <td>12.77</td>\n",
              "      <td>40309</td>\n",
              "      <td>848.30</td>\n",
              "      <td>73.76</td>\n",
              "      <td>362.40</td>\n",
              "      <td>88.68</td>\n",
              "      <td>True</td>\n",
              "      <td>562</td>\n",
              "    </tr>\n",
              "    <tr>\n",
              "      <th>1</th>\n",
              "      <td>2</td>\n",
              "      <td>2019-05-31</td>\n",
              "      <td>562     PIG BRD STR</td>\n",
              "      <td>12.77</td>\n",
              "      <td>40309</td>\n",
              "      <td>862.33</td>\n",
              "      <td>73.69</td>\n",
              "      <td>364.95</td>\n",
              "      <td>88.35</td>\n",
              "      <td>True</td>\n",
              "      <td>562</td>\n",
              "    </tr>\n",
              "    <tr>\n",
              "      <th>2</th>\n",
              "      <td>3</td>\n",
              "      <td>2019-05-31</td>\n",
              "      <td>566S/SP6 GEST SOW (SPEC PLF only)</td>\n",
              "      <td>9.12</td>\n",
              "      <td>40311</td>\n",
              "      <td>611.58</td>\n",
              "      <td>75.49</td>\n",
              "      <td>278.25</td>\n",
              "      <td>80.46</td>\n",
              "      <td>False</td>\n",
              "      <td>566</td>\n",
              "    </tr>\n",
              "    <tr>\n",
              "      <th>3</th>\n",
              "      <td>4</td>\n",
              "      <td>2019-05-31</td>\n",
              "      <td>566S/SP6 GEST SOW (SPEC PLF only)</td>\n",
              "      <td>11.67</td>\n",
              "      <td>40311</td>\n",
              "      <td>638.78</td>\n",
              "      <td>77.81</td>\n",
              "      <td>282.90</td>\n",
              "      <td>83.97</td>\n",
              "      <td>False</td>\n",
              "      <td>566</td>\n",
              "    </tr>\n",
              "    <tr>\n",
              "      <th>4</th>\n",
              "      <td>5</td>\n",
              "      <td>2019-05-31</td>\n",
              "      <td>566S/SP6 GEST SOW (SPEC PLF only)</td>\n",
              "      <td>11.67</td>\n",
              "      <td>40311</td>\n",
              "      <td>668.53</td>\n",
              "      <td>72.19</td>\n",
              "      <td>296.70</td>\n",
              "      <td>85.86</td>\n",
              "      <td>True</td>\n",
              "      <td>566</td>\n",
              "    </tr>\n",
              "  </tbody>\n",
              "</table>\n",
              "</div>"
            ],
            "text/plain": [
              "   Unnamed: 0    DateTime  ... Status  Formula2\n",
              "0           1  2019-05-31  ...   True       562\n",
              "1           2  2019-05-31  ...   True       562\n",
              "2           3  2019-05-31  ...  False       566\n",
              "3           4  2019-05-31  ...  False       566\n",
              "4           5  2019-05-31  ...   True       566\n",
              "\n",
              "[5 rows x 11 columns]"
            ]
          },
          "metadata": {
            "tags": []
          },
          "execution_count": 2
        }
      ]
    },
    {
      "cell_type": "code",
      "metadata": {
        "id": "I-peIQt3hpz_",
        "colab_type": "code",
        "outputId": "6933568f-7615-4781-cf23-c65e6e3d9933",
        "colab": {
          "base_uri": "https://localhost:8080/",
          "height": 294
        }
      },
      "source": [
        "raw_data.info()"
      ],
      "execution_count": 0,
      "outputs": [
        {
          "output_type": "stream",
          "text": [
            "<class 'pandas.core.frame.DataFrame'>\n",
            "RangeIndex: 231388 entries, 0 to 231387\n",
            "Data columns (total 11 columns):\n",
            "Unnamed: 0           231388 non-null int64\n",
            "DateTime             231388 non-null object\n",
            "Formula              231388 non-null object\n",
            "Performance          231388 non-null float64\n",
            "jobID                231388 non-null int64\n",
            "steam                231388 non-null float64\n",
            "Temp_Con             231388 non-null float64\n",
            "current              231388 non-null float64\n",
            "Temp_Front_Pellet    231388 non-null float64\n",
            "Status               231388 non-null bool\n",
            "Formula2             231388 non-null int64\n",
            "dtypes: bool(1), float64(5), int64(3), object(2)\n",
            "memory usage: 17.9+ MB\n"
          ],
          "name": "stdout"
        }
      ]
    },
    {
      "cell_type": "code",
      "metadata": {
        "id": "NlaJ3Ia4hnD3",
        "colab_type": "code",
        "colab": {}
      },
      "source": [
        "x = raw_data.drop(['Unnamed: 0','DateTime',\t'jobID','Status','Formula'], axis=1)\n",
        "y=np.ravel(raw_data['Status'])"
      ],
      "execution_count": 0,
      "outputs": []
    },
    {
      "cell_type": "code",
      "metadata": {
        "id": "S_npnaM6nRs5",
        "colab_type": "code",
        "colab": {}
      },
      "source": [
        "#แบบ Object\n",
        "x = raw_data.drop(['Unnamed: 0','DateTime',\t'jobID','Status'], axis=1)\n",
        "y=np.ravel(raw_data['Status'])"
      ],
      "execution_count": 0,
      "outputs": []
    },
    {
      "cell_type": "code",
      "metadata": {
        "id": "fypwpGu1jJ4q",
        "colab_type": "code",
        "outputId": "be304209-9626-42b0-ad42-b123776efc73",
        "colab": {
          "base_uri": "https://localhost:8080/",
          "height": 207
        }
      },
      "source": [
        "x.info()"
      ],
      "execution_count": 0,
      "outputs": [
        {
          "output_type": "stream",
          "text": [
            "<class 'pandas.core.frame.DataFrame'>\n",
            "RangeIndex: 231388 entries, 0 to 231387\n",
            "Data columns (total 6 columns):\n",
            "Performance          231388 non-null float64\n",
            "steam                231388 non-null float64\n",
            "Temp_Con             231388 non-null float64\n",
            "current              231388 non-null float64\n",
            "Temp_Front_Pellet    231388 non-null float64\n",
            "Formula2             231388 non-null int64\n",
            "dtypes: float64(5), int64(1)\n",
            "memory usage: 10.6 MB\n"
          ],
          "name": "stdout"
        }
      ]
    },
    {
      "cell_type": "code",
      "metadata": {
        "id": "N0fnEH-cidkg",
        "colab_type": "code",
        "colab": {}
      },
      "source": [
        "# Train test split\n",
        "x_train, x_test, y_train, y_test = train_test_split(x,y, test_size = 0.3, random_state=50)"
      ],
      "execution_count": 0,
      "outputs": []
    },
    {
      "cell_type": "code",
      "metadata": {
        "id": "1srUAQGyigwZ",
        "colab_type": "code",
        "colab": {}
      },
      "source": [
        "# เลือกโมเดลและวิธีการฝึก Logistic Regression\n",
        "from sklearn.linear_model import LogisticRegression\n",
        "lr_model = LogisticRegression(penalty='l2', tol=0.001, solver='lbfgs', max_iter=500)"
      ],
      "execution_count": 0,
      "outputs": []
    },
    {
      "cell_type": "code",
      "metadata": {
        "id": "bdo9OQn8iq-B",
        "colab_type": "code",
        "colab": {}
      },
      "source": [
        "# ฝึกโมเดลด้วยข้อมูลชุดฝึก\n",
        "lr_model=lr_model.fit(x_train, y_train)"
      ],
      "execution_count": 0,
      "outputs": []
    },
    {
      "cell_type": "code",
      "metadata": {
        "id": "AVlxNiv3jwt_",
        "colab_type": "code",
        "colab": {}
      },
      "source": [
        "# ทดสอบโมเดลด้วยข้อมูลชุดทดสอบ\n",
        "y_predict = lr_model.predict(x_test)"
      ],
      "execution_count": 0,
      "outputs": []
    },
    {
      "cell_type": "code",
      "metadata": {
        "id": "HC6AGUlcj028",
        "colab_type": "code",
        "outputId": "66c2d455-561d-4bdc-df64-748468a4c684",
        "colab": {
          "base_uri": "https://localhost:8080/",
          "height": 281
        }
      },
      "source": [
        "# วัดประสิทธิภาพ\n",
        "from sklearn.metrics import classification_report, confusion_matrix\n",
        "\n",
        "print(classification_report(y_test, y_predict))\n",
        "\n",
        "cm = np.array(confusion_matrix(y_test, y_predict, labels=[0,1]))\n",
        "confusion = pd.DataFrame(cm, index=['Not Churn', 'Churn'], columns=['Predicted Not Churn', 'Predicted Churn'])\n",
        "print('Confusion matrix')\n",
        "confusion"
      ],
      "execution_count": 0,
      "outputs": [
        {
          "output_type": "stream",
          "text": [
            "              precision    recall  f1-score   support\n",
            "\n",
            "       False       0.97      0.99      0.98     29567\n",
            "        True       0.99      0.98      0.98     39850\n",
            "\n",
            "    accuracy                           0.98     69417\n",
            "   macro avg       0.98      0.98      0.98     69417\n",
            "weighted avg       0.98      0.98      0.98     69417\n",
            "\n",
            "Confusion matrix\n"
          ],
          "name": "stdout"
        },
        {
          "output_type": "execute_result",
          "data": {
            "text/html": [
              "<div>\n",
              "<style scoped>\n",
              "    .dataframe tbody tr th:only-of-type {\n",
              "        vertical-align: middle;\n",
              "    }\n",
              "\n",
              "    .dataframe tbody tr th {\n",
              "        vertical-align: top;\n",
              "    }\n",
              "\n",
              "    .dataframe thead th {\n",
              "        text-align: right;\n",
              "    }\n",
              "</style>\n",
              "<table border=\"1\" class=\"dataframe\">\n",
              "  <thead>\n",
              "    <tr style=\"text-align: right;\">\n",
              "      <th></th>\n",
              "      <th>Predicted Not Churn</th>\n",
              "      <th>Predicted Churn</th>\n",
              "    </tr>\n",
              "  </thead>\n",
              "  <tbody>\n",
              "    <tr>\n",
              "      <th>Not Churn</th>\n",
              "      <td>29188</td>\n",
              "      <td>379</td>\n",
              "    </tr>\n",
              "    <tr>\n",
              "      <th>Churn</th>\n",
              "      <td>979</td>\n",
              "      <td>38871</td>\n",
              "    </tr>\n",
              "  </tbody>\n",
              "</table>\n",
              "</div>"
            ],
            "text/plain": [
              "           Predicted Not Churn  Predicted Churn\n",
              "Not Churn                29188              379\n",
              "Churn                      979            38871"
            ]
          },
          "metadata": {
            "tags": []
          },
          "execution_count": 10
        }
      ]
    },
    {
      "cell_type": "code",
      "metadata": {
        "id": "io_WhElwkAnD",
        "colab_type": "code",
        "outputId": "808b300f-b470-4138-c80f-6c59e3a5d4e0",
        "colab": {
          "base_uri": "https://localhost:8080/",
          "height": 295
        }
      },
      "source": [
        "# Plot ROC\n",
        "from sklearn import metrics\n",
        "pred = lr_model.predict_proba(x_test)\n",
        "fpr, tpr, thresholds = metrics.roc_curve(y_test, pred[:,1])\n",
        "roc_auc = metrics.auc(fpr, tpr)\n",
        "\n",
        "\n",
        "def plot_roc(fpr, tpr,roc_auc):\n",
        "  plt.plot(fpr, tpr, lw=1, alpha=0.3,label='ROC (AUC = %0.2f)' % (roc_auc))\n",
        "  plt.plot([0, 1], [0, 1], linestyle='--', lw=2, color='r',\n",
        "          label='Chance', alpha=.8)\n",
        "  plt.legend(loc=\"lower right\")\n",
        "  plt.xlim([0, 1])\n",
        "  plt.ylim([0, 1])\n",
        "  plt.xlabel('False Positive Rate')\n",
        "  plt.ylabel('True Positive Rate')\n",
        "  plt.title('Receiver operating characteristic example')\n",
        " # return plt\n",
        "\n",
        "plot_roc(fpr, tpr,roc_auc)"
      ],
      "execution_count": 0,
      "outputs": [
        {
          "output_type": "display_data",
          "data": {
            "image/png": "[encoded data removed]",
            "text/plain": [
              "<Figure size 432x288 with 1 Axes>"
            ]
          },
          "metadata": {
            "tags": []
          }
        }
      ]
    }
  ]
}